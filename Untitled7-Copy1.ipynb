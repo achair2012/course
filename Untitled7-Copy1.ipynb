{
 "cells": [
  {
   "cell_type": "markdown",
   "metadata": {},
   "source": [
    "# 遺傳演算法的建立"
   ]
  },
  {
   "cell_type": "markdown",
   "metadata": {},
   "source": [
    "步驟如下簡述\n",
    "\n",
    "1.以隨機亂數建立十組初始解於group中，每組形式為(x1,x2)\n",
    "\n",
    "2.透過這十組分別算出對應的目標函數z，則輪盤法使用的適合度為1.4^-z\n",
    "\n",
    "3.透過輪盤法搭配上述適合度函數，選取5組解進入mating pool\n",
    "\n",
    "4.由mating pool的五組解再交配(以隨機的比例內插及外插)，產生新的解群集(groups)\n",
    "\n",
    "5.以10%機率決定是否突變，若突變發生則第一組解的x1、x2值互換\n",
    "\n",
    "6.重複1000次，並驗證最佳解以目標函數"
   ]
  },
  {
   "cell_type": "code",
   "execution_count": 1,
   "metadata": {},
   "outputs": [],
   "source": [
    "import math"
   ]
  },
  {
   "cell_type": "code",
   "execution_count": 2,
   "metadata": {},
   "outputs": [],
   "source": [
    "#z函數:輸入x1、x2產出目標函數值\n",
    "def z(x1,x2): \n",
    "    ans = 1/3*math.exp(-(x1+1)**2-x2**2)-3*(1-x1)**2*math.exp(-x1**2-(x2+1)**2)-20*(-(x1)/5 + x1**3 + x2**5) * math.exp(-x1**2-x2**2)\n",
    "    return ans"
   ]
  },
  {
   "cell_type": "code",
   "execution_count": 3,
   "metadata": {},
   "outputs": [],
   "source": [
    "import numpy as np\n",
    "import random"
   ]
  },
  {
   "cell_type": "code",
   "execution_count": 4,
   "metadata": {},
   "outputs": [
    {
     "data": {
      "text/plain": [
       "array([[0., 0.],\n",
       "       [0., 0.],\n",
       "       [0., 0.],\n",
       "       [0., 0.],\n",
       "       [0., 0.],\n",
       "       [0., 0.],\n",
       "       [0., 0.],\n",
       "       [0., 0.],\n",
       "       [0., 0.],\n",
       "       [0., 0.]])"
      ]
     },
     "execution_count": 4,
     "metadata": {},
     "output_type": "execute_result"
    }
   ],
   "source": [
    "#group:紀錄十組x1、x2\n",
    "group = np.zeros(shape=(10,2))\n",
    "group"
   ]
  },
  {
   "cell_type": "code",
   "execution_count": 5,
   "metadata": {},
   "outputs": [],
   "source": [
    "#第一次的所有X1、x2皆為隨機產生\n",
    "for i in range(0,10): \n",
    "    group[i][0] = random.uniform(-2, 2)\n",
    "    group[i][1] = random.uniform(-2, 2)"
   ]
  },
  {
   "cell_type": "code",
   "execution_count": 6,
   "metadata": {
    "scrolled": false
   },
   "outputs": [
    {
     "data": {
      "text/plain": [
       "array([[-0.48670296,  1.06327705],\n",
       "       [ 1.48971434,  1.68084196],\n",
       "       [ 0.25869345,  1.50322228],\n",
       "       [-1.1497755 , -0.26429786],\n",
       "       [ 1.53927868, -1.0343776 ],\n",
       "       [-1.55983707,  0.70749309],\n",
       "       [-0.37124557,  1.29355514],\n",
       "       [-1.91818871,  0.46610439],\n",
       "       [-0.84761402,  1.35743252],\n",
       "       [-1.17644487,  0.04853583]])"
      ]
     },
     "execution_count": 6,
     "metadata": {},
     "output_type": "execute_result"
    }
   ],
   "source": [
    "group"
   ]
  },
  {
   "cell_type": "code",
   "execution_count": 7,
   "metadata": {},
   "outputs": [],
   "source": [
    "#定義選取函數:藉由輪盤法，選出Mating Pool中的元素為group中的第幾個(selection代表的是group中的第幾個)\n",
    "def select():\n",
    "    #sele_rand 是輪盤法之中所需要的隨機數字\n",
    "    sele_rand =  random.uniform(0, SelectProb[9][1]) #SelectProb[9][1]為所有適合度函數的加總，故變數產生的範圍最大就是它(下面會提到)\n",
    "    for l in range(0,10):\n",
    "        if l == 0:\n",
    "            if 0 <= sele_rand < SelectProb[l][1]:\n",
    "                #print('亂數:',str(sele_rand),',選擇:',str(group[l]))\n",
    "                selection = l\n",
    "        else:\n",
    "            if  SelectProb[l-1][1] <= sele_rand <  SelectProb[l][1]:\n",
    "                #print('亂數:',str(sele_rand),',選擇:',str(group[l]))\n",
    "                selection = l\n",
    "    return selection"
   ]
  },
  {
   "cell_type": "markdown",
   "metadata": {},
   "source": [
    "接下來為主要的動作，包含了目標函數/適合度計算、選取、交配和突變"
   ]
  },
  {
   "cell_type": "code",
   "execution_count": 22,
   "metadata": {},
   "outputs": [],
   "source": [
    "time = 0\n",
    "while time <= 1000: #總共進行一千次循環\n",
    "    #zarray紀錄group中每組x1、x2對應的目標函數值\n",
    "    zarray = np.zeros(shape=(10,1))\n",
    "    for j in range(0,10):\n",
    "        zarray[j][0] = z(group[j][0],group[j][1]) #將每組解輸入前面的z函數得到目標函數值\n",
    "    #設定每一組元素(x1、x2)被選取的機率\n",
    "    SelectProb = np.zeros(shape=(10,2))\n",
    "    for k in range(0,10):\n",
    "        SelectProb[k][0] = 1.4**(-zarray[k][0]) #以1.4^-z作為目標函數的選取\n",
    "        if k == 0:\n",
    "            SelectProb[k][1] = SelectProb[k][0]\n",
    "        else:\n",
    "            SelectProb[k][1] = SelectProb[k-1][1] + SelectProb[k][0] #SelectProb左邊為各元素的個別機率，右邊為累積機率\n",
    "    select_group = []\n",
    "    \n",
    "    #進行挑選的動作，Mating Pool大小為5\n",
    "    for t in range(0,5):\n",
    "        select_group.append(select())\n",
    "\n",
    "    #交配\n",
    "    #change_group紀錄的是交配後的產物，除了菁英策略保留的數組，其餘在之後的步驟都會取代group中舊的解\n",
    "    change_group = np.zeros(shape=(10,2))\n",
    "    for p in range(0,10):\n",
    "        r = np.zeros((5,2)) #r紀錄的是內/外插法的比率(第0行為隨機變數，第1行為分配比率)\n",
    "        for h1 in range(0,5):\n",
    "            r[h1][0] =random.uniform(-2, 2)\n",
    "        sum = np.sum(r,axis=0)\n",
    "        for h2 in range(0,5):\n",
    "            r[h2][1] = r[h2][0]/sum[0]\n",
    "        #由比率分配產生新的x1、x2\n",
    "        newx1 = group[select_group[0]][0]*r[0][1] + group[select_group[1]][0]*r[1][1] + group[select_group[2]][0]*r[2][1] + group[select_group[3]][0]*r[3][1] + group[select_group[4]][0]*r[4][1]\n",
    "        newx2 = group[select_group[0]][1]*r[0][1] + group[select_group[1]][1]*r[1][1] + group[select_group[2]][1]*r[2][1] + group[select_group[3]][1]*r[3][1] + group[select_group[4]][1]*r[4][1]\n",
    "        while newx2 > 2 or newx2 < -2 or newx1 > 2 or newx1 < -2: #如果x1或x2超出範圍則重新產出，直到有符合的值\n",
    "            for h1 in range(0,5):\n",
    "                r[h1][0] =random.uniform(-2, 2)\n",
    "            sum = np.sum(r,axis=0)\n",
    "            for h2 in range(0,5):\n",
    "                r[h2][1] = r[h2][0]/sum[0]\n",
    "            newx1 = group[select_group[0]][0]*r[0][1] + group[select_group[1]][0]*r[1][1] + group[select_group[2]][0]*r[2][1] + group[select_group[3]][0]*r[3][1] + group[select_group[4]][0]*r[4][1]\n",
    "            newx2 = group[select_group[0]][1]*r[0][1] + group[select_group[1]][1]*r[1][1] + group[select_group[2]][1]*r[2][1] + group[select_group[3]][1]*r[3][1] + group[select_group[4]][1]*r[4][1]\n",
    "        change_group[p] = [newx1,newx2]\n",
    "    \n",
    "    #依據菁英策略的精神，留下使目標函數最小值的解，以及與最佳解差距 < 1%的解(因為實數解很難找到一樣的值)，其餘由交配的值取代\n",
    "    minz = min(zarray[:,0])\n",
    "    for a in range(0,10):\n",
    "        if (zarray[a] - minz) / minz >= 0.01 or (zarray[a] - minz) / minz <= -0.01:\n",
    "            group[a][0] = change_group[a][0]\n",
    "            group[a][1] = change_group[a][1]\n",
    "        else:\n",
    "            continue\n",
    "    #突變        \n",
    "    mutation_rand = random.uniform(0, 1) #突變亂數\n",
    "    if mutation_rand <= 0.1: #突變機率 = 0.1 ，若突變亂數 <0.1 ，則發生突變。突變規則為第一列的元素，其x1、x2互換\n",
    "        sus = group[0][0]\n",
    "        group[0][0] = group[0][1]\n",
    "        group[0][1] = sus\n",
    "    time +=1"
   ]
  },
  {
   "cell_type": "markdown",
   "metadata": {},
   "source": [
    "藉由計算1000次之後，以下為最後的十組解"
   ]
  },
  {
   "cell_type": "code",
   "execution_count": 23,
   "metadata": {
    "scrolled": true
   },
   "outputs": [
    {
     "data": {
      "text/plain": [
       "array([[0.05594632, 1.61087272],\n",
       "       [0.05764747, 1.6096733 ],\n",
       "       [0.05095518, 1.61745656],\n",
       "       [0.0528733 , 1.61591783],\n",
       "       [0.04515152, 1.62195606],\n",
       "       [0.07614888, 1.58169943],\n",
       "       [0.0706217 , 1.58907016],\n",
       "       [0.07862398, 1.57880495],\n",
       "       [0.05663984, 1.60957607],\n",
       "       [0.06529721, 1.59833496]])"
      ]
     },
     "execution_count": 23,
     "metadata": {},
     "output_type": "execute_result"
    }
   ],
   "source": [
    "group"
   ]
  },
  {
   "cell_type": "markdown",
   "metadata": {},
   "source": [
    "可以看到解的差距都在小數點兩位以內，接下來看個組解對應的目標函數值"
   ]
  },
  {
   "cell_type": "code",
   "execution_count": 24,
   "metadata": {},
   "outputs": [
    {
     "data": {
      "text/plain": [
       "array([[-16.12274385],\n",
       "       [-16.12132141],\n",
       "       [-16.11921017],\n",
       "       [-16.11888218],\n",
       "       [-16.11894661],\n",
       "       [-16.10023143],\n",
       "       [-16.11347722],\n",
       "       [-16.0929326 ],\n",
       "       [-16.12362519],\n",
       "       [-16.1198725 ]])"
      ]
     },
     "execution_count": 24,
     "metadata": {},
     "output_type": "execute_result"
    }
   ],
   "source": [
    "zarray"
   ]
  },
  {
   "cell_type": "code",
   "execution_count": 25,
   "metadata": {},
   "outputs": [
    {
     "data": {
      "text/plain": [
       "-16.123625192244685"
      ]
     },
     "execution_count": 25,
     "metadata": {},
     "output_type": "execute_result"
    }
   ],
   "source": [
    "minz"
   ]
  },
  {
   "cell_type": "markdown",
   "metadata": {},
   "source": [
    "目標函數值也差不多，最小值為-16.123，則定義其為最小值"
   ]
  }
 ],
 "metadata": {
  "kernelspec": {
   "display_name": "Python 3",
   "language": "python",
   "name": "python3"
  },
  "language_info": {
   "codemirror_mode": {
    "name": "ipython",
    "version": 3
   },
   "file_extension": ".py",
   "mimetype": "text/x-python",
   "name": "python",
   "nbconvert_exporter": "python",
   "pygments_lexer": "ipython3",
   "version": "3.6.5"
  }
 },
 "nbformat": 4,
 "nbformat_minor": 2
}
