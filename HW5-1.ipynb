{
 "cells": [
  {
   "cell_type": "markdown",
   "metadata": {},
   "source": [
    "# 分析2001年至2018年，5~19歲人口數變化與劍湖山遊客數的變化"
   ]
  },
  {
   "cell_type": "code",
   "execution_count": 56,
   "metadata": {},
   "outputs": [],
   "source": [
    "%matplotlib inline\n",
    "\n",
    "import numpy as np\n",
    "import matplotlib.pyplot as plt\n",
    "import pandas as pd\n",
    "from sklearn.model_selection import train_test_split\n",
    "from sklearn.linear_model import LinearRegression"
   ]
  },
  {
   "cell_type": "markdown",
   "metadata": {},
   "source": [
    "以下分析使用的數據包含:\n",
    "\n",
    "population.csv:全國2001-2018的人口數統計\n",
    "\n",
    "tourist.csv:劍湖山2001-2018遊客數統計\n",
    "\n",
    "資料:https://drive.google.com/open?id=1y6W2LG2NHdBJ8EZmAQ5lcIrKzcB-aOQk"
   ]
  },
  {
   "cell_type": "code",
   "execution_count": 46,
   "metadata": {},
   "outputs": [],
   "source": [
    "population = [line.strip('\\n').split(',') for line in open('D://population.csv')] #取得歷年各年齡層人口數資料"
   ]
  },
  {
   "cell_type": "code",
   "execution_count": 47,
   "metadata": {},
   "outputs": [],
   "source": [
    "population_arr = np.array(population)"
   ]
  },
  {
   "cell_type": "code",
   "execution_count": 48,
   "metadata": {},
   "outputs": [
    {
     "data": {
      "text/plain": [
       "array([['年(月)底別', '總人口數', '0~4歲', '5~9歲', '10~14歲', '15~19歲', '20~24歲',\n",
       "        '25~29歲', '30~34歲', '35~39歲', '40~44歲', '45~49歲', '50~54歲',\n",
       "        '55~59歲', '60~64歲', '65~69歲', '70~74歲', '75~79歲', '80~84歲',\n",
       "        '85~89歲', '90~94歲', '95~99歲', '100歲以上'],\n",
       "       ['九十年 2001', '22405568', '1426759', '1618964', '1616161',\n",
       "        '1768347', '1992372', '1828743', '1855510', '1946820', '1859355',\n",
       "        '1678885', '1250525', '800735', '789035', '656027', '591347',\n",
       "        '398637', '207848', '88205', '25222', '4948', '1123'],\n",
       "       ['九十一年2002 ', '22520776', '1350829', '1621378', '1626685',\n",
       "        '1681126', '2004871', '1856171', '1847353', '1913758', '1896052',\n",
       "        '1706154', '1363730', '821946', '799423', '665502', '593675',\n",
       "        '419184', '224363', '92436', '29336', '5506', '1298'],\n",
       "       ['九十二年2003 ', '22604550', '1309903', '1561046', '1610671',\n",
       "        '1646048', '1977231', '1901431', '1821029', '1891845', '1919263',\n",
       "        '1744527', '1456435', '866063', '811324', '677189', '589974',\n",
       "        '443852', '239280', '97340', '32724', '5954', '1421'],\n",
       "       ['九十三年2004', '22689122', '1243939', '1521015', '1622128',\n",
       "        '1592665', '1928089', '1958601', '1796937', '1877722', '1926436',\n",
       "        '1783714', '1532407', '943933', '811061', '694392', '588148',\n",
       "        '464817', '255848', '103711', '35343', '6643', '1573'],\n",
       "       ['九十四年2005', '22770383', '1144355', '1502936', '1611758',\n",
       "        '1590254', '1864520', '2002501', '1781545', '1870226', '1925056',\n",
       "        '1808740', '1608391', '1062981', '780316', '715262', '586360',\n",
       "        '480569', '275448', '112551', '37635', '7236', '1743'],\n",
       "       ['九十五年2006', '22876527', '1092942', '1437160', '1615529',\n",
       "        '1608668', '1760487', '1998797', '1835988', '1850260', '1927547',\n",
       "        '1832448', '1646546', '1216871', '766255', '737193', '586672',\n",
       "        '491500', '294363', '126836', '40384', '8137', '1944'],\n",
       "       ['九十六年2007', '22958360', '1052585', '1359780', '1618280',\n",
       "        '1620326', '1675596', '2017016', '1866769', '1845404', '1897013',\n",
       "        '1869685', '1674991', '1329160', '788663', '748863', '597005',\n",
       "        '495565', '310951', '137363', '41807', '9576', '1962'],\n",
       "       ['九十七年2008', '23037031', '1026206', '1319870', '1559127',\n",
       "        '1605952', '1642305', '1994567', '1916670', '1823587', '1878514',\n",
       "        '1895846', '1715897', '1422226', '834044', '762519', '609541',\n",
       "        '494896', '331096', '147409', '44605', '10281', '1873'],\n",
       "       ['九十八年2009', '23119772', '1002160', '1255927', '1519931',\n",
       "        '1618327', '1589926', '1950841', '1982094', '1804994', '1868115',\n",
       "        '1905475', '1755730', '1497842', '910762', '764075', '627518',\n",
       "        '496030', '349408', '159031', '48364', '11221', '2001'],\n",
       "       ['九十九年2010', '23162123', '964093', '1158304', '1501914',\n",
       "        '1608154', '1586737', '1886699', '2029110', '1791704', '1862445',\n",
       "        '1904868', '1780392', '1572529', '1027281', '736850', '648886',\n",
       "        '497209', '364105', '173270', '53396', '12066', '2111'],\n",
       "       ['一○○年2011', '23224912', '956990', '1108386', '1436414',\n",
       "        '1612237', '1604002', '1778838', '2023066', '1844591', '1842060',\n",
       "        '1905738', '1800906', '1608114', '1175321', '724538', '669950',\n",
       "        '498980', '373442', '186330', '60206', '12662', '2141'],\n",
       "       ['一○一年2012', '23315822', '983683', '1068274', '1359720',\n",
       "        '1615525', '1615579', '1688435', '2038988', '1874388', '1837206',\n",
       "        '1874953', '1838162', '1636437', '1284320', '747480', '682956',\n",
       "        '509783', '378576', '198883', '66290', '13585', '2599'],\n",
       "       ['一○二年2013', '23373517', '986951', '1039973', '1319677',\n",
       "        '1556952', '1601542', '1650491', '2014190', '1924082', '1815671',\n",
       "        '1856314', '1863764', '1675557', '1373947', '792163', '696464',\n",
       "        '523185', '380160', '213004', '71974', '14618', '2838'],\n",
       "       ['一○三年2014', '23433753', '1005126', '1016812', '1255362',\n",
       "        '1517801', '1613883', '1593237', '1965492', '1984227', '1794658',\n",
       "        '1845104', '1872152', '1713835', '1447374', '865881', '698691',\n",
       "        '540390', '382442', '224961', '77567', '15763', '2995'],\n",
       "       ['一○四年2015', '23492074', '1052455', '977518', '1157807',\n",
       "        '1499835', '1603963', '1586427', '1897924', '2029074', '1781032',\n",
       "        '1839124', '1871317', '1737346', '1519673', '977014', '674500',\n",
       "        '560559', '385340', '235563', '84923', '17613', '3067'],\n",
       "       ['一○五年2016', '23539816', '1063063', '971266', '1107552',\n",
       "        '1434776', '1608149', '1602037', '1787567', '2023172', '1833753',\n",
       "        '1819997', '1871648', '1756657', '1554074', '1118221', '663987',\n",
       "        '579794', '387717', '241771', '91542', '20005', '3068'],\n",
       "       ['一○六年2017', '23571227', '1022399', '1002432', '1067042',\n",
       "        '1358072', '1611544', '1612210', '1693435', '2039539', '1864091',\n",
       "        '1816142', '1841651', '1792852', '1581805', '1222156', '686478',\n",
       "        '592390', '398232', '245808', '97452', '22171', '3326'],\n",
       "       ['一○七年2018', '23588932', '1008979', '1000580', '1038668',\n",
       "        '1318265', '1553109', '1597391', '1652938', '2013902', '1914048',\n",
       "        '1795250', '1824194', '1818291', '1619800', '1308576', '729554',\n",
       "        '605485', '410054', '247734', '104766', '23848', '3500'],\n",
       "       ['', '', '', '', '', '', '', '', '', '', '', '', '', '', '', '',\n",
       "        '', '', '', '', '', '', ''],\n",
       "       ['', '', '', '', '', '', '', '', '', '', '', '', '', '', '', '',\n",
       "        '', '', '', '', '', '', ''],\n",
       "       ['', '', '', '', '', '', '', '', '', '', '', '', '', '', '', '',\n",
       "        '', '', '', '', '', '', ''],\n",
       "       ['', '', '', '', '', '', '', '', '', '', '', '', '', '', '', '',\n",
       "        '', '', '', '', '', '', ''],\n",
       "       ['', '', '', '', '', '', '', '', '', '', '', '', '', '', '', '',\n",
       "        '', '', '', '', '', '', ''],\n",
       "       ['', '', '', '', '', '', '', '', '', '', '', '', '', '', '', '',\n",
       "        '', '', '', '', '', '', ''],\n",
       "       ['', '', '', '', '', '', '', '', '', '', '', '', '', '', '', '',\n",
       "        '', '', '', '', '', '', ''],\n",
       "       ['', '', '', '', '', '', '', '', '', '', '', '', '', '', '', '',\n",
       "        '', '', '', '', '', '', ''],\n",
       "       ['', '', '', '', '', '', '', '', '', '', '', '', '', '', '', '',\n",
       "        '', '', '', '', '', '', ''],\n",
       "       ['', '', '', '', '', '', '', '', '', '', '', '', '', '', '', '',\n",
       "        '', '', '', '', '', '', ''],\n",
       "       ['', '', '', '', '', '', '', '', '', '', '', '', '', '', '', '',\n",
       "        '', '', '', '', '', '', ''],\n",
       "       ['', '', '', '', '', '', '', '', '', '', '', '', '', '', '', '',\n",
       "        '', '', '', '', '', '', ''],\n",
       "       ['', '', '', '', '', '', '', '', '', '', '', '', '', '', '', '',\n",
       "        '', '', '', '', '', '', ''],\n",
       "       ['', '', '', '', '', '', '', '', '', '', '', '', '', '', '', '',\n",
       "        '', '', '', '', '', '', ''],\n",
       "       ['', '', '', '', '', '', '', '', '', '', '', '', '', '', '', '',\n",
       "        '', '', '', '', '', '', ''],\n",
       "       ['', '', '', '', '', '', '', '', '', '', '', '', '', '', '', '',\n",
       "        '', '', '', '', '', '', ''],\n",
       "       ['', '', '', '', '', '', '', '', '', '', '', '', '', '', '', '',\n",
       "        '', '', '', '', '', '', ''],\n",
       "       ['', '', '', '', '', '', '', '', '', '', '', '', '', '', '', '',\n",
       "        '', '', '', '', '', '', ''],\n",
       "       ['', '', '', '', '', '', '', '', '', '', '', '', '', '', '', '',\n",
       "        '', '', '', '', '', '', '']], dtype='<U9')"
      ]
     },
     "execution_count": 48,
     "metadata": {},
     "output_type": "execute_result"
    }
   ],
   "source": [
    "population_arr"
   ]
  },
  {
   "cell_type": "code",
   "execution_count": 17,
   "metadata": {},
   "outputs": [],
   "source": [
    "teenager = np.zeros([18,1]) #產生一個用來放置5~19歲人口數的資料夾"
   ]
  },
  {
   "cell_type": "code",
   "execution_count": 30,
   "metadata": {},
   "outputs": [],
   "source": [
    "for i in range(1,19): #將5~19歲的人口數整合後放入teenager \n",
    "    teenager[i-1][0] = sum(population_arr[i][3:6].astype(np.int64))"
   ]
  },
  {
   "cell_type": "code",
   "execution_count": 31,
   "metadata": {},
   "outputs": [
    {
     "data": {
      "text/plain": [
       "array([[5003472.],\n",
       "       [4929189.],\n",
       "       [4817765.],\n",
       "       [4735808.],\n",
       "       [4704948.],\n",
       "       [4661357.],\n",
       "       [4598386.],\n",
       "       [4484949.],\n",
       "       [4394185.],\n",
       "       [4268372.],\n",
       "       [4157037.],\n",
       "       [4043519.],\n",
       "       [3916602.],\n",
       "       [3789975.],\n",
       "       [3635160.],\n",
       "       [3513594.],\n",
       "       [3427546.],\n",
       "       [3357513.]])"
      ]
     },
     "execution_count": 31,
     "metadata": {},
     "output_type": "execute_result"
    }
   ],
   "source": [
    "teenager"
   ]
  },
  {
   "cell_type": "code",
   "execution_count": 32,
   "metadata": {},
   "outputs": [],
   "source": [
    "tourist = [line.strip('\\n').split(',') for line in open('D://tourist.csv')] #歷年遊客數資料"
   ]
  },
  {
   "cell_type": "code",
   "execution_count": 34,
   "metadata": {},
   "outputs": [],
   "source": [
    "tourist_arr = np.array(tourist)"
   ]
  },
  {
   "cell_type": "code",
   "execution_count": 38,
   "metadata": {},
   "outputs": [],
   "source": [
    "touristnumber = tourist_arr[1:,1].astype(np.int64) #取出特定行並轉成數值型態"
   ]
  },
  {
   "cell_type": "code",
   "execution_count": 39,
   "metadata": {},
   "outputs": [
    {
     "data": {
      "text/plain": [
       "array([1671898, 1775017, 2055149, 1960227, 1441298, 1407364, 1253291,\n",
       "       1237413, 1133176, 1272558, 1284988, 1154586, 1120235, 1121634,\n",
       "       1123954, 1000515, 1000647,  927462], dtype=int64)"
      ]
     },
     "execution_count": 39,
     "metadata": {},
     "output_type": "execute_result"
    }
   ],
   "source": [
    "touristnumber"
   ]
  },
  {
   "cell_type": "code",
   "execution_count": 40,
   "metadata": {},
   "outputs": [],
   "source": [
    "Touristnumber= touristnumber.reshape(len(touristnumber),1)"
   ]
  },
  {
   "cell_type": "code",
   "execution_count": 43,
   "metadata": {},
   "outputs": [
    {
     "data": {
      "text/plain": [
       "array([[1671898],\n",
       "       [1775017],\n",
       "       [2055149],\n",
       "       [1960227],\n",
       "       [1441298],\n",
       "       [1407364],\n",
       "       [1253291],\n",
       "       [1237413],\n",
       "       [1133176],\n",
       "       [1272558],\n",
       "       [1284988],\n",
       "       [1154586],\n",
       "       [1120235],\n",
       "       [1121634],\n",
       "       [1123954],\n",
       "       [1000515],\n",
       "       [1000647],\n",
       "       [ 927462]], dtype=int64)"
      ]
     },
     "execution_count": 43,
     "metadata": {},
     "output_type": "execute_result"
    }
   ],
   "source": [
    "Touristnumber"
   ]
  },
  {
   "cell_type": "code",
   "execution_count": 44,
   "metadata": {},
   "outputs": [
    {
     "data": {
      "text/plain": [
       "<matplotlib.collections.PathCollection at 0x148285471d0>"
      ]
     },
     "execution_count": 44,
     "metadata": {},
     "output_type": "execute_result"
    },
    {
     "data": {
      "image/png": "[encoded data removed]",
      "text/plain": [
       "<Figure size 432x288 with 1 Axes>"
      ]
     },
     "metadata": {},
     "output_type": "display_data"
    }
   ],
   "source": [
    "plt.scatter(teenager,Touristnumber) #將兩資料簡單作圖"
   ]
  },
  {
   "cell_type": "markdown",
   "metadata": {},
   "source": [
    "因為資料量較少 取0.3的資料測驗 0.7的資料回歸"
   ]
  },
  {
   "cell_type": "code",
   "execution_count": 71,
   "metadata": {},
   "outputs": [],
   "source": [
    "x_train,x_test,y_train,y_test = train_test_split(teenager,Touristnumber,test_size=0.3,random_state=1324)"
   ]
  },
  {
   "cell_type": "code",
   "execution_count": 72,
   "metadata": {},
   "outputs": [],
   "source": [
    "regr = LinearRegression()"
   ]
  },
  {
   "cell_type": "code",
   "execution_count": 73,
   "metadata": {},
   "outputs": [
    {
     "data": {
      "text/plain": [
       "LinearRegression(copy_X=True, fit_intercept=True, n_jobs=1, normalize=False)"
      ]
     },
     "execution_count": 73,
     "metadata": {},
     "output_type": "execute_result"
    }
   ],
   "source": [
    "regr.fit(x_train , y_train)"
   ]
  },
  {
   "cell_type": "code",
   "execution_count": 74,
   "metadata": {},
   "outputs": [],
   "source": [
    "Y_pred = regr.predict(x_test)"
   ]
  },
  {
   "cell_type": "code",
   "execution_count": 75,
   "metadata": {},
   "outputs": [
    {
     "data": {
      "text/plain": [
       "[<matplotlib.lines.Line2D at 0x1482a6ad278>]"
      ]
     },
     "execution_count": 75,
     "metadata": {},
     "output_type": "execute_result"
    },
    {
     "data": {
      "image/png": "[encoded data removed]",
      "text/plain": [
       "<Figure size 432x288 with 1 Axes>"
      ]
     },
     "metadata": {},
     "output_type": "display_data"
    }
   ],
   "source": [
    "plt.scatter(x_test,y_test)\n",
    "plt.plot(x_test,Y_pred,'r')"
   ]
  },
  {
   "cell_type": "markdown",
   "metadata": {},
   "source": [
    "從結果可以得知，劍湖山遊客人數與5~19歲青少年人數在千禧年後呈現正相關，也因為近年來此範圍人口數逐漸下降，劍湖山遊客數有逐漸下降的趨勢"
   ]
  }
 ],
 "metadata": {
  "kernelspec": {
   "display_name": "Python 3",
   "language": "python",
   "name": "python3"
  },
  "language_info": {
   "codemirror_mode": {
    "name": "ipython",
    "version": 3
   },
   "file_extension": ".py",
   "mimetype": "text/x-python",
   "name": "python",
   "nbconvert_exporter": "python",
   "pygments_lexer": "ipython3",
   "version": "3.6.5"
  }
 },
 "nbformat": 4,
 "nbformat_minor": 2
}
