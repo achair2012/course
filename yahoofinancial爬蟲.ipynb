{
 "cells": [
  {
   "cell_type": "markdown",
   "metadata": {},
   "source": [
    "以yahoofinancial之API(第三方製作之套件)取得EV以及cash資料，相加即為EVIC"
   ]
  },
  {
   "cell_type": "code",
   "execution_count": 17,
   "metadata": {},
   "outputs": [],
   "source": [
    "import yahoofinancials"
   ]
  },
  {
   "cell_type": "markdown",
   "metadata": {},
   "source": [
    "以下先測試資料取得方法"
   ]
  },
  {
   "cell_type": "code",
   "execution_count": 46,
   "metadata": {},
   "outputs": [],
   "source": [
    "stk = yahoofinancials.YahooFinancials('1101.TW')"
   ]
  },
  {
   "cell_type": "code",
   "execution_count": 47,
   "metadata": {},
   "outputs": [
    {
     "data": {
      "text/plain": [
       "{'1101.TW': {'annualHoldingsTurnover': None,\n",
       "  'enterpriseToRevenue': 3.152,\n",
       "  'beta3Year': None,\n",
       "  'profitMargins': 0.21799,\n",
       "  'enterpriseToEbitda': 9.866,\n",
       "  '52WeekChange': 0.24827075,\n",
       "  'morningStarRiskRating': None,\n",
       "  'forwardEps': 4.61,\n",
       "  'revenueQuarterlyGrowth': None,\n",
       "  'sharesOutstanding': 5884120064,\n",
       "  'fundInceptionDate': '-',\n",
       "  'annualReportExpenseRatio': None,\n",
       "  'totalAssets': None,\n",
       "  'bookValue': 35.47,\n",
       "  'sharesShort': None,\n",
       "  'sharesPercentSharesOut': None,\n",
       "  'fundFamily': None,\n",
       "  'lastFiscalYearEnd': 1609372800,\n",
       "  'heldPercentInstitutions': 0.25031,\n",
       "  'netIncomeToCommon': 24736681984,\n",
       "  'trailingEps': 4.133,\n",
       "  'lastDividendValue': 2.50082,\n",
       "  'SandP52WeekChange': 0.33631718,\n",
       "  'priceToBook': 1.429377,\n",
       "  'heldPercentInsiders': 0.1463,\n",
       "  'nextFiscalYearEnd': 1672444800,\n",
       "  'yield': None,\n",
       "  'mostRecentQuarter': 1617148800,\n",
       "  'shortRatio': None,\n",
       "  'sharesShortPreviousMonthDate': '-',\n",
       "  'floatShares': 4959022025,\n",
       "  'beta': 0.478905,\n",
       "  'enterpriseValue': 367493251072,\n",
       "  'priceHint': 2,\n",
       "  'threeYearAverageReturn': None,\n",
       "  'lastSplitDate': '2020-08-12',\n",
       "  'lastSplitFactor': '1050:1000',\n",
       "  'legalType': None,\n",
       "  'lastDividendDate': '2020-08-12',\n",
       "  'morningStarOverallRating': None,\n",
       "  'earningsQuarterlyGrowth': 0.106,\n",
       "  'priceToSalesTrailing12Months': None,\n",
       "  'dateShortInterest': None,\n",
       "  'pegRatio': None,\n",
       "  'ytdReturn': None,\n",
       "  'forwardPE': None,\n",
       "  'maxAge': 1,\n",
       "  'lastCapGain': None,\n",
       "  'shortPercentOfFloat': None,\n",
       "  'sharesShortPriorMonth': None,\n",
       "  'impliedSharesOutstanding': None,\n",
       "  'category': None,\n",
       "  'fiveYearAverageReturn': None}}"
      ]
     },
     "execution_count": 47,
     "metadata": {},
     "output_type": "execute_result"
    }
   ],
   "source": [
    "stk.get_key_statistics_data() #EV來源"
   ]
  },
  {
   "cell_type": "code",
   "execution_count": 50,
   "metadata": {},
   "outputs": [],
   "source": [
    "stat_data = stk.get_key_statistics_data()\n",
    "a = stat_data['1101.TW']\n",
    "EV = a['enterpriseValue']"
   ]
  },
  {
   "cell_type": "code",
   "execution_count": 51,
   "metadata": {},
   "outputs": [
    {
     "data": {
      "text/plain": [
       "367493251072"
      ]
     },
     "execution_count": 51,
     "metadata": {},
     "output_type": "execute_result"
    }
   ],
   "source": [
    "EV"
   ]
  },
  {
   "cell_type": "code",
   "execution_count": 27,
   "metadata": {},
   "outputs": [
    {
     "data": {
      "text/plain": [
       "{'balanceSheetHistory': {'2330.TW': [{'2020-12-31': {'intangibleAssets': 20331577000,\n",
       "     'capitalSurplus': 56347243000,\n",
       "     'totalLiab': 910089406000,\n",
       "     'totalStockholderEquity': 1849657256000,\n",
       "     'minorityInterest': 964743000,\n",
       "     'otherCurrentLiab': 388514557000,\n",
       "     'totalAssets': 2760711405000,\n",
       "     'commonStock': 259303805000,\n",
       "     'otherCurrentAssets': 8984978000,\n",
       "     'retainedEarnings': 1588686081000,\n",
       "     'otherLiab': 16305014000,\n",
       "     'goodWill': 5436602000,\n",
       "     'treasuryStock': -54679873000,\n",
       "     'otherAssets': 31712208000,\n",
       "     'cash': 660170647000,\n",
       "     'totalCurrentLiabilities': 617151048000,\n",
       "     'deferredLongTermAssetCharges': 25958184000,\n",
       "     'shortLongTermDebt': 2601169000,\n",
       "     'otherStockholderEquity': -54679873000,\n",
       "     'propertyPlantEquipment': 1583317502000,\n",
       "     'totalCurrentAssets': 1092185308000,\n",
       "     'longTermInvestments': 27728208000,\n",
       "     'netTangibleAssets': 1823889077000,\n",
       "     'shortTermInvestments': 139587181000,\n",
       "     'netReceivables': 146089048000,\n",
       "     'longTermDebt': 256072695000,\n",
       "     'inventory': 137353407000,\n",
       "     'accountsPayable': 41095002000}},\n",
       "   {'2019-12-31': {'intangibleAssets': 14959652000,\n",
       "     'capitalSurplus': 56339709000,\n",
       "     'totalLiab': 642709606000,\n",
       "     'totalStockholderEquity': 1621410124000,\n",
       "     'minorityInterest': 685302000,\n",
       "     'otherCurrentLiab': 331870367000,\n",
       "     'totalAssets': 2264805032000,\n",
       "     'commonStock': 259303805000,\n",
       "     'otherCurrentAssets': 5600921000,\n",
       "     'retainedEarnings': 1333334979000,\n",
       "     'otherLiab': 11832072000,\n",
       "     'goodWill': 5693376000,\n",
       "     'treasuryStock': -27568369000,\n",
       "     'otherAssets': 21756244000,\n",
       "     'cash': 455399336000,\n",
       "     'totalCurrentLiabilities': 590735701000,\n",
       "     'deferredLongTermAssetCharges': 17928358000,\n",
       "     'shortLongTermDebt': 31800000000,\n",
       "     'otherStockholderEquity': -27568369000,\n",
       "     'propertyPlantEquipment': 1369609807000,\n",
       "     'totalCurrentAssets': 822613914000,\n",
       "     'longTermInvestments': 30172039000,\n",
       "     'netTangibleAssets': 1600757096000,\n",
       "     'shortTermInvestments': 138623085000,\n",
       "     'netReceivables': 139822312000,\n",
       "     'longTermDebt': 25100000000,\n",
       "     'inventory': 82981196000,\n",
       "     'accountsPayable': 40205966000}},\n",
       "   {'2018-12-31': {'intangibleAssets': 11206649000,\n",
       "     'capitalSurplus': 56315932000,\n",
       "     'totalLiab': 412631642000,\n",
       "     'totalStockholderEquity': 1676817665000,\n",
       "     'minorityInterest': 678731000,\n",
       "     'otherCurrentLiab': 116355803000,\n",
       "     'totalAssets': 2090128038000,\n",
       "     'commonStock': 259303805000,\n",
       "     'otherCurrentAssets': 5639467000,\n",
       "     'retainedEarnings': 1376647841000,\n",
       "     'otherLiab': 15189056000,\n",
       "     'goodWill': 5795488000,\n",
       "     'treasuryStock': -15449913000,\n",
       "     'otherAssets': 20091105000,\n",
       "     'cash': 577814601000,\n",
       "     'totalCurrentLiabilities': 340542586000,\n",
       "     'deferredLongTermAssetCharges': 16806387000,\n",
       "     'shortLongTermDebt': 35053891000,\n",
       "     'otherStockholderEquity': -15449913000,\n",
       "     'propertyPlantEquipment': 1072050279000,\n",
       "     'totalCurrentAssets': 951679721000,\n",
       "     'longTermInvestments': 29304796000,\n",
       "     'netTangibleAssets': 1659815528000,\n",
       "     'shortTermInvestments': 132312559000,\n",
       "     'netReceivables': 129262831000,\n",
       "     'longTermDebt': 56900000000,\n",
       "     'inventory': 103230976000,\n",
       "     'accountsPayable': 34350389000}},\n",
       "   {'2017-12-31': {'intangibleAssets': 8526500000,\n",
       "     'capitalSurplus': 56309600000,\n",
       "     'totalLiab': 497285500000,\n",
       "     'totalStockholderEquity': 1493746800000,\n",
       "     'minorityInterest': 699700000,\n",
       "     'otherCurrentLiab': 172319300000,\n",
       "     'totalAssets': 1991732000000,\n",
       "     'commonStock': 259303800000,\n",
       "     'otherCurrentAssets': 4395400000,\n",
       "     'retainedEarnings': 1205051300000,\n",
       "     'otherLiab': 18595300000,\n",
       "     'goodWill': 5648700000,\n",
       "     'treasuryStock': -26917900000,\n",
       "     'otherAssets': 16372000000,\n",
       "     'cash': 553391700000,\n",
       "     'totalCurrentLiabilities': 386890200000,\n",
       "     'deferredLongTermAssetCharges': 12105500000,\n",
       "     'shortLongTermDebt': 58401100000,\n",
       "     'otherStockholderEquity': -26917900000,\n",
       "     'propertyPlantEquipment': 1062542300000,\n",
       "     'totalCurrentAssets': 857203100000,\n",
       "     'longTermInvestments': 41439400000,\n",
       "     'netTangibleAssets': 1479571600000,\n",
       "     'shortTermInvestments': 102450100000,\n",
       "     'netReceivables': 122488400000,\n",
       "     'longTermDebt': 91800000000,\n",
       "     'inventory': 73880700000,\n",
       "     'accountsPayable': 30069200000}}]}}"
      ]
     },
     "execution_count": 27,
     "metadata": {},
     "output_type": "execute_result"
    }
   ],
   "source": [
    "stk.get_financial_stmts('annual', 'balance') #現金流量來源"
   ]
  },
  {
   "cell_type": "code",
   "execution_count": 34,
   "metadata": {},
   "outputs": [],
   "source": [
    "balance_data = stk.get_financial_stmts('annual', 'balance')\n",
    "a = balance_data['balanceSheetHistory']\n",
    "b = a['2330.TW']\n",
    "c = b[0]\n",
    "d = c['2020-12-31']\n",
    "cash = d['cash']"
   ]
  },
  {
   "cell_type": "code",
   "execution_count": 35,
   "metadata": {
    "scrolled": true
   },
   "outputs": [
    {
     "data": {
      "text/plain": [
       "660170647000"
      ]
     },
     "execution_count": 35,
     "metadata": {},
     "output_type": "execute_result"
    }
   ],
   "source": [
    "cash"
   ]
  },
  {
   "cell_type": "code",
   "execution_count": 40,
   "metadata": {},
   "outputs": [
    {
     "name": "stdout",
     "output_type": "stream",
     "text": [
      "16003961234904\n"
     ]
    }
   ],
   "source": [
    "EVIC = EV + cash\n",
    "print(EVIC)"
   ]
  },
  {
   "cell_type": "markdown",
   "metadata": {},
   "source": [
    "開始用迴圈抓多組公司資料(目前是用我們原先持有的公司名單，除非找的到方法獲取yahoo finance中所有台灣公司資料)"
   ]
  },
  {
   "cell_type": "code",
   "execution_count": 44,
   "metadata": {},
   "outputs": [
    {
     "name": "stdout",
     "output_type": "stream",
     "text": [
      "['1101', '1102', '1103', '1104', '1108', '1109', '1110', '1201', '1203', '1210']\n"
     ]
    }
   ],
   "source": [
    "company_list = [i.strip('\\n').strip('\\ufeff') for i in open('Fintech/list.csv',encoding = 'UTF-8')] \n",
    "print(company_list)\n",
    "#先以10間做測試"
   ]
  },
  {
   "cell_type": "code",
   "execution_count": 65,
   "metadata": {},
   "outputs": [],
   "source": [
    "EVIC_list = []"
   ]
  },
  {
   "cell_type": "code",
   "execution_count": 67,
   "metadata": {},
   "outputs": [],
   "source": [
    "for company_ID in company_list:\n",
    "    used_ID = company_ID + '.TW'\n",
    "    main = yahoofinancials.YahooFinancials(used_ID)\n",
    "    stat_data = main.get_key_statistics_data()\n",
    "    a = stat_data[used_ID]\n",
    "    EV = a['enterpriseValue']\n",
    "    \n",
    "    balance_data = main.get_financial_stmts('annual', 'balance')\n",
    "    b = balance_data['balanceSheetHistory']\n",
    "    c = b[used_ID]\n",
    "    d = c[0]\n",
    "    e = d['2020-12-31']\n",
    "    cash = e['cash']\n",
    "    \n",
    "    EVIC = EV + cash\n",
    "    EVIC_list.append([EV,cash,EVIC])\n",
    "    "
   ]
  },
  {
   "cell_type": "code",
   "execution_count": 68,
   "metadata": {},
   "outputs": [
    {
     "data": {
      "text/plain": [
       "[[367493251072, 51433522000, 418926773072],\n",
       " [232040497152, 25911732000, 257952229152],\n",
       " [16306413568, 3375981000, 19682394568],\n",
       " [15467538432, 294665000, 15762203432],\n",
       " [7392828928, 320535000, 7713363928],\n",
       " [6856258048, 2276512000, 9132770048],\n",
       " [8991641600, 176743000, 9168384600],\n",
       " [15701951488, 1905431000, 17607382488],\n",
       " [8031087616, 1569035000, 9600122616],\n",
       " [64839860224, 4488486000, 69328346224]]"
      ]
     },
     "execution_count": 68,
     "metadata": {},
     "output_type": "execute_result"
    }
   ],
   "source": [
    " EVIC_list"
   ]
  },
  {
   "cell_type": "code",
   "execution_count": null,
   "metadata": {},
   "outputs": [],
   "source": [
    "1101.TW"
   ]
  }
 ],
 "metadata": {
  "kernelspec": {
   "display_name": "Python 3",
   "language": "python",
   "name": "python3"
  },
  "language_info": {
   "codemirror_mode": {
    "name": "ipython",
    "version": 3
   },
   "file_extension": ".py",
   "mimetype": "text/x-python",
   "name": "python",
   "nbconvert_exporter": "python",
   "pygments_lexer": "ipython3",
   "version": "3.6.12"
  }
 },
 "nbformat": 4,
 "nbformat_minor": 4
}
